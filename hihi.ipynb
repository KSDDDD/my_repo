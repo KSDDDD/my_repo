{
 "cells": [
  {
   "cell_type": "code",
   "execution_count": null,
   "metadata": {},
   "outputs": [],
   "source": [
    "print('hi')"
   ]
  },
  {
   "cell_type": "code",
   "execution_count": null,
   "metadata": {},
   "outputs": [],
   "source": [
    "T = int(input())\n",
    "# 여러개의 테스트 케이스가 주어지므로, 각각을 처리합니다.\n",
    "for test_case in range(1, T + 1):\n",
    "    lst=[]\n",
    "    stk=[]\n",
    "    result=[]\n",
    "    ssum=[]\n",
    "    x=0\n",
    "    y=0\n",
    "    for i in range(100):# 배열 생성\n",
    "        lst=list(map(int, input().split()))\n",
    "        ssum.append(lst)\n",
    "    for j in range(100):#x 축 기준 덧셈\n",
    "        result.append(sum(ssum[j]))\n",
    "    for k_x in range(100):#y축 기준 덧셈\n",
    "        for k_y in range(100):\n",
    "\t        stk.append(ssum[k_y][k_x])\n",
    "        result.append(sum(stk))\n",
    "        stk=[]\n",
    "    for l in range(100):#대각선 덧셈\n",
    "        stk.append(ssum[l][l])\n",
    "    result.append(sum(stk))\n",
    "    stk=[]\n",
    "    m=0\n",
    "    n=99\n",
    "    while True:\n",
    "        stk.append(ssum[m][n])\n",
    "        m+=1\n",
    "        n-=1\n",
    "        if n<0:\n",
    "            result.append(sum(stk))\n",
    "            break\n",
    "    print(f\"#{test_case} {max(result)}\")\n",
    "    \n"
   ]
  },
  {
   "cell_type": "code",
   "execution_count": null,
   "metadata": {},
   "outputs": [],
   "source": [
    "scores = list(map(int, input().split()))\n",
    "\n",
    "scores_cnt = [0] * 101 # 각 칸에 0이들어간게 100개가되는 리스트가 됨, 인덱스는 0부터 시작하기 때문에 101까지\n",
    "\n",
    "#최빈수\n",
    "max_score = 0\n",
    "\n",
    "ans = 0\n",
    "# i는 점수\n",
    "for score in scores:\n",
    "    # score 인덱스에 있는 값을 1 증가\n",
    "    scores_cnt[score] += 1\n",
    "#리스트를\n",
    "for i in range(100,0,-1):\n",
    "    if score_cnt[i] == max_score:\n",
    "        print(f\"#{tc} {max_score}\")\n",
    "        break"
   ]
  },
  {
   "cell_type": "code",
   "execution_count": null,
   "metadata": {},
   "outputs": [],
   "source": [
    "T = int(input())\n",
    "# 여러개의 테스트 케이스가 주어지므로, 각각을 처리합니다.\n",
    "for test_case in range(1, T + 1):\n",
    "    num=int(input())\n",
    "    lst=[]#수들을 넣는 곳\n",
    "    answer=[]# 숫자당 몇번 있었는지 넣는 곳\n",
    "    #answer의 위치가 숫자다.\n",
    "    lst=list(map(int, input().split()))\n",
    "    for i in range(1,101):\n",
    "        answer.append(lst.count(i))\n",
    "    k=max(answer)\n",
    "    cnt=answer.index(k)\n",
    "    for j in range(answer.index(k)+1, 101):\n",
    "        if answer[j-1]>=answer[cnt]:\n",
    "            k=j\n",
    "        #print(j, answer[j-1])\n",
    "    print(f\"#{num} {k}\")"
   ]
  },
  {
   "cell_type": "code",
   "execution_count": 6,
   "metadata": {},
   "outputs": [
    {
     "name": "stdout",
     "output_type": "stream",
     "text": [
      "[[1, 2, 3, 4, 5], [1, 2, 3], [1, 2, 3, 4, 5], [1, 2, 3, 4, 5], [1, 2, 3, 4, 5]]\n"
     ]
    }
   ],
   "source": [
    "T = int(input())\n",
    "# 여러개의 테스트 케이스가 주어지므로, 각각을 처리합니다.\n",
    "for test_case in range(1, T + 1):\n",
    "    a=[]\n",
    "    for i in range(5):\n",
    "        a.append(list(map(int, input().split())))\n",
    "    print(a)"
   ]
  },
  {
   "cell_type": "code",
   "execution_count": null,
   "metadata": {},
   "outputs": [],
   "source": []
  },
  {
   "cell_type": "code",
   "execution_count": null,
   "metadata": {},
   "outputs": [],
   "source": []
  },
  {
   "cell_type": "code",
   "execution_count": null,
   "metadata": {},
   "outputs": [],
   "source": []
  },
  {
   "cell_type": "code",
   "execution_count": null,
   "metadata": {},
   "outputs": [],
   "source": []
  },
  {
   "cell_type": "code",
   "execution_count": null,
   "metadata": {},
   "outputs": [],
   "source": []
  },
  {
   "cell_type": "code",
   "execution_count": null,
   "metadata": {},
   "outputs": [],
   "source": []
  },
  {
   "cell_type": "code",
   "execution_count": null,
   "metadata": {},
   "outputs": [],
   "source": []
  }
 ],
 "metadata": {
  "kernelspec": {
   "display_name": "Python 3",
   "language": "python",
   "name": "python3"
  },
  "language_info": {
   "codemirror_mode": {
    "name": "ipython",
    "version": 3
   },
   "file_extension": ".py",
   "mimetype": "text/x-python",
   "name": "python",
   "nbconvert_exporter": "python",
   "pygments_lexer": "ipython3",
   "version": "3.9.13 (tags/v3.9.13:6de2ca5, May 17 2022, 16:36:42) [MSC v.1929 64 bit (AMD64)]"
  },
  "orig_nbformat": 4,
  "vscode": {
   "interpreter": {
    "hash": "c4b9ebf4ca459396e2ad1150752490c26670c1a037c08cad955a4425787bec2e"
   }
  }
 },
 "nbformat": 4,
 "nbformat_minor": 2
}
